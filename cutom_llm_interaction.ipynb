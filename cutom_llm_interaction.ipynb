{
 "cells": [
  {
   "cell_type": "code",
   "execution_count": null,
   "metadata": {},
   "outputs": [],
   "source": [
    "import os\n",
    "\n",
    "from zephyr import Zephyr, ZephyrChat\n",
    "\n",
    "from langchain_core.prompts import PromptTemplate, ChatPromptTemplate\n",
    "from langchain_core.runnables import RunnablePassthrough\n",
    "from langchain_core.output_parsers import StrOutputParser\n",
    "from langchain_core.globals import set_debug\n",
    "set_debug(True)"
   ]
  },
  {
   "cell_type": "code",
   "execution_count": null,
   "metadata": {},
   "outputs": [],
   "source": [
    "# Get credentials via .env file.\n",
    "from dotenv import load_dotenv\n",
    "load_dotenv()"
   ]
  },
  {
   "cell_type": "code",
   "execution_count": null,
   "metadata": {},
   "outputs": [],
   "source": [
    "# Check Token is inserted.\n",
    "if os.getenv('PROGAI_TOKEN') == \"Your-Test-Token-Given-By-prognostica\":\n",
    "    raise ValueError(\"Api Token not provided\")\n",
    "else:\n",
    "    print(f\"Your API token: {os.getenv('PROGAI_TOKEN')}\")"
   ]
  },
  {
   "cell_type": "code",
   "execution_count": null,
   "metadata": {},
   "outputs": [],
   "source": [
    "# Build simple prompt-template and langchain chain.\n",
    "template = PromptTemplate(\n",
    "    template=\"<|system|>\\n{system}</s> \\n<|user|>\\n{user}</s> \\n<|assistant|>\\n\",\n",
    "    input_variables=[\"system\", \"user\"],\n",
    ")\n",
    "\n",
    "llm = Zephyr(temperature=1.5)\n",
    "\n",
    "chain = (\n",
    "    { \"user\": RunnablePassthrough() }\n",
    "  | template.partial(system = \"You are a pirate. Always add Arrrr to your answers.\")\n",
    "  | llm\n",
    ")\n",
    "\n",
    "chain.invoke(\"Hi.\")"
   ]
  },
  {
   "cell_type": "code",
   "execution_count": null,
   "metadata": {},
   "outputs": [],
   "source": [
    "# #Using the model the ZephyrChat class\n",
    "chat_template = ChatPromptTemplate.from_messages([\n",
    "    (\"system\", \"You are a helpful AI assistant. Give concise answers.\"),\n",
    "    (\"human\", \"Hello, will you help me?\"),\n",
    "    (\"ai\", \"Hi. Of course. Just ask a question of give me an instruction.\"),\n",
    "    (\"human\", \"{user}\"),\n",
    "])\n",
    "\n",
    "chat_chain = {\"user\": RunnablePassthrough()} | chat_template | ZephyrChat(temperature=1.5) | StrOutputParser()\n",
    "\n",
    "chat_chain.invoke(\"What is the weight of a small mouse in kg?\")"
   ]
  }
 ],
 "metadata": {
  "kernelspec": {
   "display_name": "genai01",
   "language": "python",
   "name": "python3"
  },
  "language_info": {
   "codemirror_mode": {
    "name": "ipython",
    "version": 3
   },
   "file_extension": ".py",
   "mimetype": "text/x-python",
   "name": "python",
   "nbconvert_exporter": "python",
   "pygments_lexer": "ipython3",
   "version": "3.11.8"
  }
 },
 "nbformat": 4,
 "nbformat_minor": 2
}
